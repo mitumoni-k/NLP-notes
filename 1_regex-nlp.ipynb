{
 "cells": [
  {
   "cell_type": "markdown",
   "id": "0a791037",
   "metadata": {},
   "source": [
    "#  Regular Expressions(regex) for NLP"
   ]
  },
  {
   "cell_type": "code",
   "execution_count": 4,
   "id": "210a24af",
   "metadata": {},
   "outputs": [],
   "source": [
    "import re  # module in python for implementing regex "
   ]
  },
  {
   "cell_type": "markdown",
   "id": "3bd1e146",
   "metadata": {},
   "source": [
    "# Some Examples\n",
    "\n",
    "## Extraction of phone numbers"
   ]
  },
  {
   "cell_type": "code",
   "execution_count": 2,
   "id": "f0e671b7",
   "metadata": {},
   "outputs": [],
   "source": [
    "text1='mitumonikalita2002@gmail.com'\n",
    "text2='bhagyashree002@yahoo.com'\n",
    "text3='mitu0921@github.io'\n",
    "text4='123445 yeah and it is 23232, 3232323,5590000 and ancd234'\n",
    "text5='12345677'\n",
    "text6='(123)-12346034-444'"
   ]
  },
  {
   "cell_type": "code",
   "execution_count": 3,
   "id": "8baeb717",
   "metadata": {},
   "outputs": [
    {
     "name": "stdout",
     "output_type": "stream",
     "text": [
      "['1234']\n"
     ]
    }
   ],
   "source": [
    "pattern = '\\d{4}'\n",
    "matches = re.findall(pattern,text4)\n",
    "print(matches)"
   ]
  },
  {
   "cell_type": "code",
   "execution_count": null,
   "id": "ad01e266",
   "metadata": {},
   "outputs": [],
   "source": []
  }
 ],
 "metadata": {
  "kernelspec": {
   "display_name": "Python 3 (ipykernel)",
   "language": "python",
   "name": "python3"
  },
  "language_info": {
   "codemirror_mode": {
    "name": "ipython",
    "version": 3
   },
   "file_extension": ".py",
   "mimetype": "text/x-python",
   "name": "python",
   "nbconvert_exporter": "python",
   "pygments_lexer": "ipython3",
   "version": "3.11.3"
  }
 },
 "nbformat": 4,
 "nbformat_minor": 5
}

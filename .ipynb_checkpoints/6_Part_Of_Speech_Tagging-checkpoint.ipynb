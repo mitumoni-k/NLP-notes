{
 "cells": [
  {
   "cell_type": "markdown",
   "id": "f89da40c",
   "metadata": {},
   "source": [
    "## Extracting Part Of Speech of each word using SpaCy"
   ]
  },
  {
   "cell_type": "code",
   "execution_count": 1,
   "id": "0506ddfe",
   "metadata": {},
   "outputs": [],
   "source": [
    "import spacy"
   ]
  },
  {
   "cell_type": "code",
   "execution_count": 2,
   "id": "aa3d9988",
   "metadata": {},
   "outputs": [],
   "source": [
    "nlp = spacy.load('en_core_web_sm')"
   ]
  },
  {
   "cell_type": "code",
   "execution_count": 5,
   "id": "18a633ea",
   "metadata": {},
   "outputs": [
    {
     "name": "stdout",
     "output_type": "stream",
     "text": [
      "Elon  |  PROPN  |  proper noun\n",
      "flew  |  VERB  |  verb\n",
      "to  |  ADP  |  adposition\n",
      "Mars  |  PROPN  |  proper noun\n",
      "yesterday  |  NOUN  |  noun\n",
      ".  |  PUNCT  |  punctuation\n",
      "He  |  PRON  |  pronoun\n",
      "carried  |  VERB  |  verb\n",
      "biryani  |  ADJ  |  adjective\n",
      "masala  |  NOUN  |  noun\n",
      "with  |  ADP  |  adposition\n",
      "him  |  PRON  |  pronoun\n"
     ]
    }
   ],
   "source": [
    "doc = nlp(\"Elon flew to Mars yesterday. He carried biryani masala with him\")\n",
    "\n",
    "for token in doc:\n",
    "    print(token , \" | \",token.pos_ , \" | \",spacy.explain(token.pos_))"
   ]
  },
  {
   "cell_type": "markdown",
   "id": "86f74d04",
   "metadata": {},
   "source": [
    "#### use of tags in SpaCy\n",
    "    -> They express the part-of-speech (e.g. verb) and some amount of morphological information, e.g. that the verb is past tense \n",
    "    -> You can check https://v2.spacy.io/api/annotation for the complete list of pos categories in spacy.\n",
    "\n",
    "        https://en.wikipedia.org/wiki/Preposition_and_postposition\n",
    "\n",
    "           https://en.wikipedia.org/wiki/Part_of_speech"
   ]
  },
  {
   "cell_type": "code",
   "execution_count": 8,
   "id": "086f6075",
   "metadata": {},
   "outputs": [
    {
     "name": "stdout",
     "output_type": "stream",
     "text": [
      "Wow  |  INTJ  |  interjection  |  UH  |  interjection\n",
      "!  |  PUNCT  |  punctuation  |  .  |  punctuation mark, sentence closer\n",
      "!  |  PUNCT  |  punctuation  |  .  |  punctuation mark, sentence closer\n",
      "Dr.  |  PROPN  |  proper noun  |  NNP  |  noun, proper singular\n",
      "Strange  |  PROPN  |  proper noun  |  NNP  |  noun, proper singular\n",
      "made  |  VERB  |  verb  |  VBD  |  verb, past tense\n",
      "265  |  NUM  |  numeral  |  CD  |  cardinal number\n",
      "million  |  NUM  |  numeral  |  CD  |  cardinal number\n",
      "$  |  NUM  |  numeral  |  CD  |  cardinal number\n",
      "on  |  ADP  |  adposition  |  IN  |  conjunction, subordinating or preposition\n",
      "the  |  DET  |  determiner  |  DT  |  determiner\n",
      "very  |  ADV  |  adverb  |  RB  |  adverb\n",
      "first  |  ADJ  |  adjective  |  JJ  |  adjective (English), other noun-modifier (Chinese)\n",
      "day  |  NOUN  |  noun  |  NN  |  noun, singular or mass\n"
     ]
    }
   ],
   "source": [
    "doc = nlp(\"Wow!! Dr. Strange made 265 million $ on the very first day\")\n",
    "\n",
    "for token in doc:\n",
    "    print(token , \" | \",token.pos_ , \" | \",spacy.explain(token.pos_) , \" | \", token.tag_, \" | \", spacy.explain(token.tag_))\n",
    "    \n"
   ]
  },
  {
   "cell_type": "code",
   "execution_count": 9,
   "id": "f8dba1b0",
   "metadata": {},
   "outputs": [
    {
     "data": {
      "text/plain": [
       "quits"
      ]
     },
     "execution_count": 9,
     "metadata": {},
     "output_type": "execute_result"
    }
   ],
   "source": [
    "doc = nlp(\"He quits the job\")\n",
    "\n",
    "doc[1]"
   ]
  },
  {
   "cell_type": "code",
   "execution_count": 11,
   "id": "0d2c75d1",
   "metadata": {},
   "outputs": [
    {
     "name": "stdout",
     "output_type": "stream",
     "text": [
      "quits  |  VBZ  |  verb, 3rd person singular present\n"
     ]
    }
   ],
   "source": [
    "print(doc[1].text , \" | \", doc[1].tag_ , \" | \", spacy.explain(doc[1].tag_))"
   ]
  },
  {
   "cell_type": "code",
   "execution_count": 12,
   "id": "760c7c6f",
   "metadata": {},
   "outputs": [
    {
     "name": "stdout",
     "output_type": "stream",
     "text": [
      "quit  |  VBD  |  verb, past tense\n"
     ]
    }
   ],
   "source": [
    "doc = nlp(\"He quit the job\")\n",
    "print(doc[1].text , \" | \", doc[1].tag_ , \" | \", spacy.explain(doc[1].tag_))\n"
   ]
  },
  {
   "cell_type": "markdown",
   "id": "6ff84924",
   "metadata": {},
   "source": [
    "### We can also remove unnecessary token from a text using POS tags as follows :"
   ]
  },
  {
   "cell_type": "code",
   "execution_count": 16,
   "id": "ea22b553",
   "metadata": {},
   "outputs": [
    {
     "data": {
      "text/plain": [
       "[Microsoft,\n",
       " Corp.,\n",
       " today,\n",
       " announced,\n",
       " the,\n",
       " following,\n",
       " results,\n",
       " for,\n",
       " the,\n",
       " quarter,\n",
       " ended,\n",
       " December,\n",
       " 31,\n",
       " 2021,\n",
       " as,\n",
       " compared,\n",
       " to,\n",
       " the,\n",
       " corresponding,\n",
       " period]"
      ]
     },
     "execution_count": 16,
     "metadata": {},
     "output_type": "execute_result"
    }
   ],
   "source": [
    "earnings_text=\"\"\"Microsoft Corp. today announced the following results for the quarter ended December 31, 2021, as compared to the corresponding period of last fiscal year:\n",
    "\n",
    "·         Revenue was $51.7 billion and increased 20%\n",
    "·         Operating income was $22.2 billion and increased 24%\n",
    "·         Net income was $18.8 billion and increased 21%\n",
    "·         Diluted earnings per share was $2.48 and increased 22%\n",
    "“Digital technology is the most malleable resource at the world’s disposal to overcome constraints and reimagine everyday work and life,” said Satya Nadella, chairman and chief executive officer of Microsoft. “As tech as a percentage of global GDP continues to increase, we are innovating and investing across diverse and growing markets, with a common underlying technology stack and an operating model that reinforces a common strategy, culture, and sense of purpose.”\n",
    "“Solid commercial execution, represented by strong bookings growth driven by long-term Azure commitments, increased Microsoft Cloud revenue to $22.1 billion, up 32% year over year” said Amy Hood, executive vice president and chief financial officer of Microsoft.\"\"\"\n",
    "\n",
    "doc = nlp(earnings_text)\n",
    "\n",
    "filtered_tokens = []\n",
    "\n",
    "for token in doc:\n",
    "    if token.pos_ not in [\"SPACE\" , \"X\" , \"PUNCT\"] :\n",
    "        filtered_tokens.append(token)\n",
    "      \n",
    "filtered_tokens[:20]    \n",
    "    \n",
    "    \n"
   ]
  },
  {
   "cell_type": "markdown",
   "id": "5f766116",
   "metadata": {},
   "source": [
    "### We can also count the occurence of POS in a text as:\n"
   ]
  },
  {
   "cell_type": "code",
   "execution_count": 22,
   "id": "68c1f86e",
   "metadata": {},
   "outputs": [
    {
     "data": {
      "text/plain": [
       "{96: 13,\n",
       " 92: 46,\n",
       " 100: 24,\n",
       " 90: 9,\n",
       " 85: 16,\n",
       " 93: 16,\n",
       " 97: 27,\n",
       " 98: 1,\n",
       " 84: 20,\n",
       " 103: 10,\n",
       " 87: 6,\n",
       " 99: 5,\n",
       " 89: 12,\n",
       " 86: 3,\n",
       " 94: 3,\n",
       " 95: 2}"
      ]
     },
     "execution_count": 22,
     "metadata": {},
     "output_type": "execute_result"
    }
   ],
   "source": [
    "count = doc.count_by(spacy.attrs.POS)\n",
    "count"
   ]
  },
  {
   "cell_type": "code",
   "execution_count": 23,
   "id": "d06127ea",
   "metadata": {},
   "outputs": [
    {
     "data": {
      "text/plain": [
       "'PROPN'"
      ]
     },
     "execution_count": 23,
     "metadata": {},
     "output_type": "execute_result"
    }
   ],
   "source": [
    "doc.vocab[96].text    # it means, we have 13 PROPN in our doc -> POS96 is the token identifier for 'PROPN'  "
   ]
  },
  {
   "cell_type": "code",
   "execution_count": 24,
   "id": "10c25989",
   "metadata": {},
   "outputs": [
    {
     "name": "stdout",
     "output_type": "stream",
     "text": [
      "PROPN  ->  13\n",
      "NOUN  ->  46\n",
      "VERB  ->  24\n",
      "DET  ->  9\n",
      "ADP  ->  16\n",
      "NUM  ->  16\n",
      "PUNCT  ->  27\n",
      "SCONJ  ->  1\n",
      "ADJ  ->  20\n",
      "SPACE  ->  10\n",
      "AUX  ->  6\n",
      "SYM  ->  5\n",
      "CCONJ  ->  12\n",
      "ADV  ->  3\n",
      "PART  ->  3\n",
      "PRON  ->  2\n"
     ]
    }
   ],
   "source": [
    "# to see for all, we can run a loop through the dictionary as :\n",
    "for key,value in count.items():\n",
    "    print(doc.vocab[key].text , \" -> \",value)"
   ]
  },
  {
   "cell_type": "markdown",
   "id": "948e23ed",
   "metadata": {},
   "source": [
    "## Exercises regarding some above concepts\n",
    "\n",
    "    Q1. Extract all NOUN tokens from the story given below. \n",
    "    Q2. Extract all numbers (NUM POS type) in a python list\n",
    "    Q3. Print a count of all POS tags in this story"
   ]
  },
  {
   "cell_type": "code",
   "execution_count": 26,
   "id": "46020c12",
   "metadata": {},
   "outputs": [],
   "source": [
    "text = 'Inflation rose again in April, continuing a climb that has pushed consumers to the brink and is threatening the economic expansion, the Bureau of Labor Statistics reported Wednesday.\\n\\nThe consumer price index, a broad-based measure of prices for goods and services, increased 8.3% from a year ago, higher than the Dow Jones estimate for an 8.1% gain. That represented a slight ease from Marchâ€™s peak but was still close to the highest level since the summer of 1982.\\n\\nRemoving volatile food and ene'"
   ]
  },
  {
   "cell_type": "code",
   "execution_count": 32,
   "id": "6a21b074",
   "metadata": {},
   "outputs": [
    {
     "name": "stdout",
     "output_type": "stream",
     "text": [
      "NOUN TOKENS :  [Inflation, climb, consumers, brink, expansion, consumer, price, index, measure, prices, goods, services, %, year, estimate, %, gain, ease, Marchâ€, ™, peak, level, summer, food, ene]\n",
      "NUM POS TYPE TOKENS :  [8.3, 8.1, 1982]\n"
     ]
    }
   ],
   "source": [
    "# SOLUTION OF Q1. and Q2.\n",
    "doc = nlp(text)\n",
    "\n",
    "# for Q1. solution\n",
    "noun_tokens = []\n",
    "\n",
    "# for Q2. solution\n",
    "num_tokens = []\n",
    "\n",
    "for token in doc:\n",
    "    if token.pos_ == \"NOUN\":\n",
    "        noun_tokens.append(token)\n",
    "    elif token.pos_ == \"NUM\":\n",
    "        num_tokens.append(token)\n",
    "\n",
    "        \n",
    "print(\"NOUN TOKENS : \" ,noun_tokens)   \n",
    "print(\"NUM POS TYPE TOKENS : \",num_tokens)"
   ]
  },
  {
   "cell_type": "code",
   "execution_count": 33,
   "id": "35f299a6",
   "metadata": {},
   "outputs": [
    {
     "name": "stdout",
     "output_type": "stream",
     "text": [
      "NOUN  ->  25\n",
      "VERB  ->  9\n",
      "ADV  ->  4\n",
      "ADP  ->  11\n",
      "PROPN  ->  7\n",
      "PUNCT  ->  9\n",
      "DET  ->  12\n",
      "PRON  ->  2\n",
      "AUX  ->  3\n",
      "CCONJ  ->  4\n",
      "ADJ  ->  6\n",
      "SPACE  ->  2\n",
      "NUM  ->  3\n",
      "PART  ->  1\n",
      "SCONJ  ->  1\n"
     ]
    }
   ],
   "source": [
    "# SOLUTION OF Q3.\n",
    "count = doc.count_by(spacy.attrs.POS)\n",
    "\n",
    "for key,value in count.items():\n",
    "    print(doc.vocab[key].text , \" -> \",value)\n",
    "\n"
   ]
  },
  {
   "cell_type": "code",
   "execution_count": null,
   "id": "eb3e07fa",
   "metadata": {},
   "outputs": [],
   "source": []
  },
  {
   "cell_type": "code",
   "execution_count": null,
   "id": "4dbf9cfa",
   "metadata": {},
   "outputs": [],
   "source": []
  }
 ],
 "metadata": {
  "kernelspec": {
   "display_name": "Python 3 (ipykernel)",
   "language": "python",
   "name": "python3"
  },
  "language_info": {
   "codemirror_mode": {
    "name": "ipython",
    "version": 3
   },
   "file_extension": ".py",
   "mimetype": "text/x-python",
   "name": "python",
   "nbconvert_exporter": "python",
   "pygments_lexer": "ipython3",
   "version": "3.11.3"
  }
 },
 "nbformat": 4,
 "nbformat_minor": 5
}
